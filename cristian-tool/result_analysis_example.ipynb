{
 "cells": [
  {
   "cell_type": "code",
   "execution_count": null,
   "metadata": {},
   "outputs": [],
   "source": [
    "from result_proccessor import process_results\n",
    "from cpog_verifier import verify_with_cpog\n",
    "import os"
   ]
  },
  {
   "cell_type": "code",
   "execution_count": null,
   "metadata": {},
   "outputs": [],
   "source": [
    "base_path = \"$USER/SharpVelvet/out/\"\n",
    "\n",
    "results_file_name = \"name\"\n",
    "\n",
    "results_input_path = os.path.join(base_path, results_file_name + \".csv\")"
   ]
  },
  {
   "cell_type": "code",
   "execution_count": null,
   "metadata": {},
   "outputs": [],
   "source": [
    "# results_before_cpog_verification = process_results(results_input_path)\n",
    "# results = verify_with_cpog(results_before_cpog_verification)\n",
    "\n",
    "# OR\n",
    "\n",
    "results = process_results(results_input_path)\n",
    "# where results_input_path points to the output of the cristian tool script"
   ]
  },
  {
   "cell_type": "code",
   "execution_count": null,
   "metadata": {},
   "outputs": [],
   "source": [
    "verifier_error_rate = results[~results['cpog_message'].isin(['NO ERROR', 'UNSAT'])].shape[0] / results.shape[0]\n",
    "accuracy = results['count_matches'].value_counts(normalize=True).get(True, 0)\n",
    "\n",
    "print(f\"Verifier Error Rate: {verifier_error_rate * 100:.2f}%\")\n",
    "print(f\"Accuracy: {accuracy * 100:.2f}%\")"
   ]
  }
 ],
 "metadata": {
  "kernelspec": {
   "display_name": "global-env",
   "language": "python",
   "name": "python3"
  },
  "language_info": {
   "codemirror_mode": {
    "name": "ipython",
    "version": 3
   },
   "file_extension": ".py",
   "mimetype": "text/x-python",
   "name": "python",
   "nbconvert_exporter": "python",
   "pygments_lexer": "ipython3",
   "version": "3.11.10"
  }
 },
 "nbformat": 4,
 "nbformat_minor": 2
}

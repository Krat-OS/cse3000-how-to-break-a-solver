{
 "cells": [
  {
   "cell_type": "markdown",
   "metadata": {},
   "source": [
    "# Imports"
   ]
  },
  {
   "cell_type": "code",
   "execution_count": null,
   "metadata": {},
   "outputs": [
    {
     "ename": "ModuleNotFoundError",
     "evalue": "No module named 'cpog_verifier'",
     "output_type": "error",
     "traceback": [
      "\u001b[0;31m---------------------------------------------------------------------------\u001b[0m",
      "\u001b[0;31mModuleNotFoundError\u001b[0m                       Traceback (most recent call last)",
      "Cell \u001b[0;32mIn[3], line 1\u001b[0m\n\u001b[0;32m----> 1\u001b[0m \u001b[38;5;28;01mimport\u001b[39;00m \u001b[38;5;21;01mcompute_sat_feature_data\u001b[39;00m \u001b[38;5;28;01mas\u001b[39;00m \u001b[38;5;21;01mcsfd\u001b[39;00m\n\u001b[1;32m      2\u001b[0m \u001b[38;5;28;01mimport\u001b[39;00m \u001b[38;5;21;01mplots\u001b[39;00m \u001b[38;5;28;01mas\u001b[39;00m \u001b[38;5;21;01mpl\u001b[39;00m\n\u001b[1;32m      3\u001b[0m \u001b[38;5;28;01mimport\u001b[39;00m \u001b[38;5;21;01mos\u001b[39;00m\n",
      "File \u001b[0;32m~/Work/Uni/RP/cse3000-how-to-break-a-solver/satzilla_feature_extractor/compute_sat_feature_data.py:9\u001b[0m\n\u001b[1;32m      5\u001b[0m \u001b[38;5;28;01mfrom\u001b[39;00m \u001b[38;5;21;01mtyping\u001b[39;00m \u001b[38;5;28;01mimport\u001b[39;00m List\n\u001b[1;32m      7\u001b[0m \u001b[38;5;28;01mimport\u001b[39;00m \u001b[38;5;21;01mpandas\u001b[39;00m \u001b[38;5;28;01mas\u001b[39;00m \u001b[38;5;21;01mpd\u001b[39;00m\n\u001b[0;32m----> 9\u001b[0m \u001b[38;5;28;01mfrom\u001b[39;00m \u001b[38;5;21;01mcpog_verifier\u001b[39;00m\u001b[38;5;21;01m.\u001b[39;00m\u001b[38;5;21;01mutils\u001b[39;00m \u001b[38;5;28;01mimport\u001b[39;00m run_command\n\u001b[1;32m     10\u001b[0m \u001b[38;5;28;01mfrom\u001b[39;00m \u001b[38;5;21;01mresult_processor\u001b[39;00m\u001b[38;5;21;01m.\u001b[39;00m\u001b[38;5;21;01mutils\u001b[39;00m \u001b[38;5;28;01mimport\u001b[39;00m process_results\n\u001b[1;32m     13\u001b[0m \u001b[38;5;28;01mdef\u001b[39;00m \u001b[38;5;21mrun_python_script\u001b[39m(script_path: \u001b[38;5;28mstr\u001b[39m, \u001b[38;5;241m*\u001b[39m\u001b[38;5;241m*\u001b[39mkwargs):\n",
      "\u001b[0;31mModuleNotFoundError\u001b[0m: No module named 'cpog_verifier'"
     ]
    }
   ],
   "source": [
    "import os\n",
    "import sys\n",
    "\n",
    "# Add the parent directory of the project to Python's path\n",
    "sys.path.append(os.path.abspath(\"..\"))\n",
    "\n",
    "import compute_sat_feature_data as csfd\n",
    "import plots as pl"
   ]
  },
  {
   "cell_type": "markdown",
   "metadata": {},
   "source": [
    "#### Step 2: Run Instance Generation"
   ]
  },
  {
   "cell_type": "code",
   "execution_count": null,
   "metadata": {},
   "outputs": [],
   "source": [
    "csfd.run_python_script(\"/home/vjurisic/cse3000-how-to-break-a-solver/SharpVelvet/src/generate_instances.py\", generators=\"/home/vjurisic/cse3000-how-to-break-a-solver/SharpVelvet/tool-config/vuk/generator_config_mc.json\")"
   ]
  },
  {
   "cell_type": "markdown",
   "metadata": {},
   "source": [
    "## Run Horn Generator"
   ]
  },
  {
   "cell_type": "code",
   "execution_count": null,
   "metadata": {},
   "outputs": [],
   "source": [
    "csfd.run_python_script(\n",
    "    \"/home/vjurisic/cse3000-how-to-break-a-solver/SharpVelvet/generators/horn_gen.py\",\n",
    "    input=\"/home/vjurisic/cse3000-how-to-break-a-solver/SharpVelvet/instances/3cnf-500clause-chevu2/chevu_002_s3093338016703783448.cnf\",\n",
    "    output=\"/home/vjurisic/cse3000-how-to-break-a-solver/SharpVelvet/instances/3cnf-500clause-horn2\",\n",
    "    threads=8,\n",
    ")"
   ]
  },
  {
   "cell_type": "markdown",
   "metadata": {},
   "source": [
    "#### Step 3: Run Fuzzer"
   ]
  },
  {
   "cell_type": "code",
   "execution_count": null,
   "metadata": {},
   "outputs": [],
   "source": [
    "csfd.run_python_script(\"/home/vjurisic/cse3000-how-to-break-a-solver/SharpVelvet/src/run_fuzzer.py\", counters=\"/home/vjurisic/cse3000-how-to-break-a-solver/SharpVelvet/tool-config/vuk/counter_config_mc.json\", instances=\"/home/vjurisic/cse3000-how-to-break-a-solver/SharpVelvet/instances/3cnf-500clause-horn\")"
   ]
  },
  {
   "cell_type": "markdown",
   "metadata": {},
   "source": [
    "## Show solve times"
   ]
  },
  {
   "cell_type": "code",
   "execution_count": null,
   "metadata": {},
   "outputs": [],
   "source": [
    "import plots as pl\n",
    "pl.plot_solve_time(\"/home/vjurisic/cse3000-how-to-break-a-solver/temp_storage/results/2025-01-02_chevu_000_fuzz-results.csv\")\n",
    "pl.plot_solve_time_and_count(\"/home/vjurisic/cse3000-how-to-break-a-solver/temp_storage/results/2025-01-02_chevu_000_fuzz-results.csv\")"
   ]
  },
  {
   "cell_type": "markdown",
   "metadata": {},
   "source": [
    "#### Step 4.1: Compute Chevu Features"
   ]
  },
  {
   "cell_type": "code",
   "execution_count": null,
   "metadata": {},
   "outputs": [],
   "source": [
    "csfd.compute_features(\"/home/vjurisic/cse3000-how-to-break-a-solver/SharpVelvet/out/cnf/chevu\", \"/home/vjurisic/cse3000-how-to-break-a-solver/SharpVelvet/out/features_output\", \"/home/vjurisic/cse3000-how-to-break-a-solver/satzilla_feature_extractor/binaries/features\")"
   ]
  },
  {
   "cell_type": "markdown",
   "metadata": {},
   "source": [
    "#### Step 4.2: Compute Horn Features"
   ]
  },
  {
   "cell_type": "code",
   "execution_count": null,
   "metadata": {},
   "outputs": [],
   "source": [
    "csfd.compute_features(\"/home/vjurisic/cse3000-how-to-break-a-solver/SharpVelvet/instances/300_horn_instances/chevu\", \"/home/vjurisic/cse3000-how-to-break-a-solver/SharpVelvet/out/features_output\", \"/home/vjurisic/cse3000-how-to-break-a-solver/satzilla_feature_extractor/binaries/features\")"
   ]
  },
  {
   "cell_type": "markdown",
   "metadata": {},
   "source": [
    "#### Step 4.2: Compute Biere Features"
   ]
  },
  {
   "cell_type": "code",
   "execution_count": null,
   "metadata": {},
   "outputs": [],
   "source": [
    "csfd.compute_features(\"/home/vjurisic/cse3000-how-to-break-a-solver/SharpVelvet/out/cnf/biere\", \"/home/vjurisic/cse3000-how-to-break-a-solver/SharpVelvet/out/features_output\", \"/home/vjurisic/cse3000-how-to-break-a-solver/satzilla_feature_extractor/binaries/features\")"
   ]
  },
  {
   "cell_type": "markdown",
   "metadata": {},
   "source": [
    "#### Step 4.3: Compute Brummayer Features"
   ]
  },
  {
   "cell_type": "code",
   "execution_count": null,
   "metadata": {},
   "outputs": [],
   "source": [
    "csfd.compute_features(\"/home/vjurisic/cse3000-how-to-break-a-solver/SharpVelvet/out/cnf/brummayer\", \"/home/vjurisic/cse3000-how-to-break-a-solver/SharpVelvet/out/features_output\", \"/home/vjurisic/cse3000-how-to-break-a-solver/satzilla_feature_extractor/binaries/features\")"
   ]
  },
  {
   "cell_type": "markdown",
   "metadata": {},
   "source": [
    "#### Step 5: Process CSV Files"
   ]
  },
  {
   "cell_type": "code",
   "execution_count": null,
   "metadata": {},
   "outputs": [],
   "source": [
    "csfd.process_csv_files(\"/home/vjurisic/cse3000-how-to-break-a-solver/SharpVelvet/out/features_output\")"
   ]
  },
  {
   "cell_type": "markdown",
   "metadata": {},
   "source": [
    "# Plotting Data\n",
    "\n",
    "In the following section are all the scripts to visualize above created data\n",
    "\n",
    "### All SATZilla features"
   ]
  },
  {
   "cell_type": "code",
   "execution_count": null,
   "metadata": {},
   "outputs": [],
   "source": [
    "import compute_sat_feature_data as csfd\n",
    "import plots as pl\n",
    "import calculate_variance as cv\n",
    "biere = \"/home/vjurisic/cse3000-how-to-break-a-solver/temp_storage/results/biere_features_output.csv\"\n",
    "horn = \"/home/vjurisic/cse3000-how-to-break-a-solver/temp_storage/results/horn_features_output.csv\"\n",
    "brummayer = \"/home/vjurisic/cse3000-how-to-break-a-solver/temp_storage/results/brummayer_features_output.csv\"\n",
    "chevu = \"/home/vjurisic/cse3000-how-to-break-a-solver/temp_storage/results/chevu_features_output.csv\"\n",
    "chevu_300_csv = \"/home/vjurisic/cse3000-how-to-break-a-solver/SharpVelvet/instances/features_output/300_chevu_features_output.csv\"\n",
    "chevu_1000_csv = \"/home/vjurisic/cse3000-how-to-break-a-solver/SharpVelvet/instances/features_output/1000_chevu_features_output.csv\"\n",
    "brummayer_1000_csv = \"/home/vjurisic/cse3000-how-to-break-a-solver/SharpVelvet/out/features_output/1000_brummayer_features_output.csv\"\n",
    "chevu_1500_csv = \"/home/vjurisic/cse3000-how-to-break-a-solver/SharpVelvet/out/features_output/1500_chevu_features_output.csv\"\n",
    "brummayer_1500_csv = \"/home/vjurisic/cse3000-how-to-break-a-solver/SharpVelvet/out/features_output/1500_brummayer_features_output.csv\"\n",
    "chevu_2000_csv = \"/home/vjurisic/cse3000-how-to-break-a-solver/SharpVelvet/out/features_output/2000_chevu_features_output.csv\"\n",
    "brummayer_2000_csv = \"/home/vjurisic/cse3000-how-to-break-a-solver/SharpVelvet/out/features_output/2000_brummayer_features_output.csv\""
   ]
  },
  {
   "cell_type": "markdown",
   "metadata": {},
   "source": [
    "# Plots"
   ]
  },
  {
   "cell_type": "code",
   "execution_count": null,
   "metadata": {},
   "outputs": [],
   "source": [
    "features = pl.get_features_list(biere)\n",
    "print(features)\n",
    "print(len(features))"
   ]
  },
  {
   "cell_type": "code",
   "execution_count": null,
   "metadata": {},
   "outputs": [],
   "source": [
    "csv_files = [biere, brummayer, chevu_300_csv, chevu]\n",
    "pl.sort_csv_by_feature(biere, 'horn-clauses-fraction', biere)\n",
    "pl.sort_csv_by_feature(chevu_300_csv, 'horn-clauses-fraction', chevu_300_csv)\n",
    "pl.sort_csv_by_feature(brummayer, 'horn-clauses-fraction', brummayer)\n",
    "pl.sort_csv_by_feature(chevu, 'horn-clauses-fraction', chevu)\n",
    "# # pl.sort_csv_by_feature(chevu_2000_csv, 'horn-clauses-fraction', chevu_2000_csv)\n",
    "# pl.sort_csv_by_feature(brummayer_1000_csv, 'horn-clauses-fraction', brummayer_1000_csv)\n",
    "# pl.sort_csv_by_feature(brummayer_1500_csv, 'horn-clauses-fraction', brummayer_1500_csv)\n",
    "# pl.sort_csv_by_feature(brummayer_2000_csv, 'horn-clauses-fraction', brummayer_2000_csv)\n",
    "pl.sort_csv_by_feature(chevu_1000_csv, 'horn-clauses-fraction', chevu_1000_csv)\n",
    "# pl.sort_csv_by_feature(brummayer_1500_csv, 'horn-clauses-fraction', brummayer_1500_csv)\n",
    "# pl.sort_csv_by_feature(brummayer_2000_csv, 'horn-clauses-fraction', brummayer_2000_csv)\n",
    "labels = [\"Biere\", \"Brummayer\", \"Horn\", \"Custom\"]\n",
    "pl.plot_feature_values_combined(csv_files, \"horn-clauses-fraction\", range_min=-0.03, range_max=1.03, labels=labels)\n"
   ]
  },
  {
   "cell_type": "code",
   "execution_count": null,
   "metadata": {},
   "outputs": [],
   "source": [
    "selected_features = [\n",
    "    'nvarsOrig', 'nclausesOrig', 'nvars', 'nclauses', 'reducedVars', 'reducedClauses', \n",
    "    'Pre-featuretime', 'vars-clauses-ratio', 'POSNEG-RATIO-CLAUSE-mean', \n",
    "    'POSNEG-RATIO-CLAUSE-coeff-variation', 'POSNEG-RATIO-CLAUSE-min', \n",
    "    'POSNEG-RATIO-CLAUSE-max', 'POSNEG-RATIO-CLAUSE-entropy', 'VCG-CLAUSE-mean', \n",
    "    'VCG-CLAUSE-coeff-variation', 'VCG-CLAUSE-min', 'VCG-CLAUSE-max', \n",
    "    'VCG-CLAUSE-entropy', 'UNARY', 'BINARY+', 'TRINARY+', 'Basic-featuretime', \n",
    "    'VCG-VAR-mean', 'VCG-VAR-coeff-variation', 'VCG-VAR-min', 'VCG-VAR-max', \n",
    "    'VCG-VAR-entropy', 'POSNEG-RATIO-VAR-mean', 'POSNEG-RATIO-VAR-stdev', \n",
    "    'POSNEG-RATIO-VAR-min', 'POSNEG-RATIO-VAR-max', 'POSNEG-RATIO-VAR-entropy', \n",
    "    'HORNY-VAR-mean', 'HORNY-VAR-coeff-variation', 'HORNY-VAR-min', \n",
    "    'HORNY-VAR-max', 'HORNY-VAR-entropy', 'horn-clauses-fraction', 'VG-mean', \n",
    "    'VG-coeff-variation', 'VG-min', 'VG-max', 'KLB-featuretime', 'CG-mean', \n",
    "    'CG-coeff-variation', 'CG-min', 'CG-max', 'CG-entropy', 'cluster-coeff-mean', \n",
    "    'cluster-coeff-coeff-variation', 'cluster-coeff-min', 'cluster-coeff-max', \n",
    "    'cluster-coeff-entropy'\n",
    "]\n",
    "\n",
    "pl.plot_all_feature_values(chevu_2000_csv, selected_features)"
   ]
  },
  {
   "cell_type": "code",
   "execution_count": null,
   "metadata": {},
   "outputs": [],
   "source": [
    "pl.plot_feature_values_with_lines(chevu_2000_csv, \"nvars\")"
   ]
  },
  {
   "cell_type": "code",
   "execution_count": null,
   "metadata": {},
   "outputs": [],
   "source": [
    "pl.plot_2d_features(chevu_2000_csv, \"nclauses\", \"nvars\")"
   ]
  },
  {
   "cell_type": "code",
   "execution_count": null,
   "metadata": {},
   "outputs": [],
   "source": [
    "cv.plot_variance_table(chevu, 1, True, 16)"
   ]
  },
  {
   "cell_type": "code",
   "execution_count": null,
   "metadata": {},
   "outputs": [],
   "source": []
  },
  {
   "cell_type": "code",
   "execution_count": null,
   "metadata": {},
   "outputs": [],
   "source": []
  },
  {
   "cell_type": "code",
   "execution_count": null,
   "metadata": {},
   "outputs": [],
   "source": []
  }
 ],
 "metadata": {
  "kernelspec": {
   "display_name": "global-env",
   "language": "python",
   "name": "python3"
  },
  "language_info": {
   "codemirror_mode": {
    "name": "ipython",
    "version": 3
   },
   "file_extension": ".py",
   "mimetype": "text/x-python",
   "name": "python",
   "nbconvert_exporter": "python",
   "pygments_lexer": "ipython3",
   "version": "3.11.11"
  }
 },
 "nbformat": 4,
 "nbformat_minor": 2
}

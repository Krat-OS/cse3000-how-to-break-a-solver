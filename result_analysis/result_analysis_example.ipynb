{
 "cells": [
  {
   "cell_type": "code",
   "execution_count": null,
   "metadata": {},
   "outputs": [],
   "source": [
    "from result_processor.utils import process_results\n",
    "from cpog_verifier.utils import verify_with_cpog\n",
    "import os"
   ]
  },
  {
   "cell_type": "code",
   "execution_count": null,
   "metadata": {},
   "outputs": [],
   "source": [
    "base_path = \"$USER/SharpVelvet/out/\"\n",
    "\n",
    "results_file_name = \"name\"\n",
    "\n",
    "results_input_path = os.path.join(base_path, results_file_name + \".csv\")"
   ]
  },
  {
   "cell_type": "code",
   "execution_count": null,
   "metadata": {},
   "outputs": [],
   "source": [
    "# results_before_cpog_verification = process_results(results_input_path)\n",
    "# results = verify_with_cpog(results_before_cpog_verification)\n",
    "\n",
    "# OR\n",
    "\n",
    "results = process_results(results_input_path)\n",
    "# where results_input_path points to the output of the cristian tool script"
   ]
  },
  {
   "cell_type": "code",
   "execution_count": null,
   "metadata": {},
   "outputs": [],
   "source": [
    "grouped_results = results.groupby('counter')\n",
    "\n",
    "for counter, group in grouped_results:\n",
    "    verifier_error_rate = group[~group['cpog_message'].isin(['NO ERROR', 'UNSAT'])].shape[0] / group.shape[0]\n",
    "    accuracy = group['count_matches'].value_counts(normalize=True).get(True, 0)\n",
    "    \n",
    "    print(f\"Counter: {counter}\")\n",
    "    print(f\"Verifier Error Rate: {verifier_error_rate * 100:.2f}%\")\n",
    "    print(f\"Accuracy: {accuracy * 100:.2f}%\\n\")"
   ]
  },
  {
   "cell_type": "code",
   "execution_count": null,
   "metadata": {},
   "outputs": [],
   "source": [
    "satzilla_features = process_results(\"/path/to/satzilla/output.csv\")"
   ]
  },
  {
   "cell_type": "code",
   "execution_count": null,
   "metadata": {},
   "outputs": [],
   "source": [
    "# Filter out instances we can't verify with CPOG\n",
    "verifiable = (results['cpog_message'].isin([\"NO ERROR\", \"UNSAT\"]) | results['verified'] == True)\n",
    "verified_results = results[verifiable].copy()  # Create explicit copy\n",
    "verified_features = satzilla_features[verifiable].copy()  # Create explicit copy\n",
    "\n",
    "# Separate into correct and incorrect counts among verifiable instances\n",
    "correct_count = (verified_results['verified'] == True) & \\\n",
    "                (verified_results['count_matches'] == True) & \\\n",
    "                (verified_results['cpog_message'].isin([\"NO ERROR\", \"UNSAT\"]))\n",
    "\n",
    "# Split the satzilla features\n",
    "correct_data = verified_features[correct_count].copy()\n",
    "incorrect_data = verified_features[~correct_count].copy()\n",
    "\n",
    "# Initialize count_diff column with zeros\n",
    "verified_results['count_diff'] = 0\n",
    "\n",
    "# Calculate count differences for incorrect instances using loc\n",
    "mask = ~correct_count\n",
    "verified_results.loc[mask, 'count_diff'] = abs(\n",
    "    verified_results.loc[mask, 'cpog_count'] - \n",
    "    verified_results.loc[mask, 'count_value']\n",
    ")\n",
    "\n",
    "# Print summary statistics\n",
    "print(\"Total instances:\", len(results))\n",
    "print(\"Verifiable instances:\", len(verified_results))\n",
    "print(\"Number of correct instances:\", len(correct_data))\n",
    "print(\"Number of incorrect instances:\", len(incorrect_data))\n",
    "print(\"Number of non-zero count differences:\", (verified_results['count_diff'] > 0).sum())"
   ]
  }
 ],
 "metadata": {
  "kernelspec": {
   "display_name": "global-env",
   "language": "python",
   "name": "python3"
  },
  "language_info": {
   "codemirror_mode": {
    "name": "ipython",
    "version": 3
   },
   "file_extension": ".py",
   "mimetype": "text/x-python",
   "name": "python",
   "nbconvert_exporter": "python",
   "pygments_lexer": "ipython3",
   "version": "3.11.10"
  }
 },
 "nbformat": 4,
 "nbformat_minor": 2
}
